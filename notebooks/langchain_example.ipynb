{
 "cells": [
  {
   "metadata": {},
   "cell_type": "code",
   "outputs": [],
   "execution_count": null,
   "source": [
    "from langchain.chains.llm import LLMChain\n",
    "from langchain_community.chat_models import ChatZhipuAI\n",
    "from langchain_core.prompts import PromptTemplate\n",
    "\n",
    "from configs import qiko_graph_config\n",
    "\n",
    "llm = ChatZhipuAI(temperature=0.6, api_key=qiko_graph_config.LLM_API_KEY, model=\"glm-4\")"
   ],
   "id": "da96b0bbd47678b0"
  },
  {
   "metadata": {},
   "cell_type": "code",
   "outputs": [],
   "execution_count": null,
   "source": [
    "prompt_tpl = PromptTemplate.from_template(\"请给我讲1个关于{type}的笑话\")\n",
    "chain = prompt_tpl | llm\n",
    "chain.invoke({\"type\": \"程序员\"})"
   ],
   "id": "67666086836c3fe4"
  }
 ],
 "metadata": {},
 "nbformat": 5,
 "nbformat_minor": 9
}
